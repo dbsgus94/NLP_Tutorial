{
 "cells": [
  {
   "cell_type": "markdown",
   "metadata": {},
   "source": [
    "imdb에서 수집한 50,000개의 영화 리뷰 텍스트를 긍정 또는 부정으로 분류하는 이진 분류 예제 "
   ]
  },
  {
   "cell_type": "markdown",
   "metadata": {},
   "source": [
    "Tensorflow_hub: 재사용 가능한 머신러닝 모듈들이 있는 라이브러리 \n",
    "\n",
    "Tensorflow_datasets: TensorFlow에서 사용할 수 있도록 준비된 데이터세트 모음\n",
    "-Audio, Image, Text 등등 여러 데이터가 있다. "
   ]
  },
  {
   "cell_type": "code",
   "execution_count": 2,
   "metadata": {},
   "outputs": [
    {
     "name": "stdout",
     "output_type": "stream",
     "text": [
      "버전:  2.1.0\n",
      "즉시 실행 모드:  True\n",
      "허브 버전:  0.8.0\n",
      "GPU  사용 가능\n"
     ]
    }
   ],
   "source": [
    "from __future__ import absolute_import, division, print_function, unicode_literals\n",
    "\n",
    "import numpy as np\n",
    "import tensorflow as tf\n",
    "import tensorflow_hub as hub\n",
    "import tensorflow_datasets as tfds\n",
    "\n",
    "print(\"버전: \", tfds.__version__)\n",
    "print(\"즉시 실행 모드: \", tf.executing_eagerly())\n",
    "print(\"허브 버전: \", hub.__version__)\n",
    "print(\"GPU \", \"사용 가능\" if tf.config.experimental.list_physical_devices(\"GPU\") else \"사용 불가능\")"
   ]
  },
  {
   "cell_type": "code",
   "execution_count": 3,
   "metadata": {},
   "outputs": [],
   "source": [
    "# 훈련 세트를 6대 4로 나눕니다.\n",
    "# 결국 훈련에 15,000개 샘플, 검증에 10,000개 샘플, 테스트에 25,000개 샘플을 사용하게 됩니다.\n",
    "train_data,test_data = tfds.load(\n",
    "    name=\"imdb_reviews\", \n",
    "    split=('train[20%:50%]', 'test[50%:]'),\n",
    "    as_supervised=True)\n"
   ]
  },
  {
   "cell_type": "markdown",
   "metadata": {},
   "source": [
    "처음 10개의 데이터 샘플 출력 "
   ]
  },
  {
   "cell_type": "code",
   "execution_count": 3,
   "metadata": {},
   "outputs": [
    {
     "data": {
      "text/plain": [
       "<tf.Tensor: shape=(10,), dtype=string, numpy=\n",
       "array([b'......this film is pretty awful, the only thing stopping me from giving it a rating of 1 was the fact that I unfortunately have seen worse.<br /><br />The jungle music, juttering demons, and fluorescent UV style blood/teeth/eyes give it that \"awful\" look, and the script is dire.....this film is more like a test to see how long you can last before giving up on it. It\\'s also predictable but not in a good way. Nothing this film does is in a good way. I watched it 10 minutes ago and thought I would rant a bit so there you are. (oh and the acting doesn\\'t let the film down, it\\'s also terrible)',\n",
       "       b\"Think of the ending of the Grudge 2 with the following :<br /><br />- a man who repeatedly says the word Sunshine - a cowboy - a love story - Sarah Michelle Gellar cutting herself - and a creepy mirror<br /><br />OH AND UNDERWATER SEA ANIMALS...yay...<br /><br />not a good movie... I seriously did not enjoy it whatsoever. The poster for the movie is extremely misleading as well and I found that it was just to suck people into watching it...I can't believe i went. <br /><br />Save your time and money...go watch Saw III...a film where the writing makes you feel like there was effort put into it...<br /><br />Im Mike and Im out\",\n",
       "       b\"A super comedy series from the 1990s (Two series were made in total) that suffered in the UK ratings due to poor scheduling. When you are up against established comedies like 'Minder', even the best new comedies are going to struggle to get noticed.<br /><br />Luckily, I caught the series from episode one and followed it avidly. I mentioned it to friends and family at the time, but everyone seemed to have been watching something else. Very, very frustrating.<br /><br />Anyway, I loved both series and never forgot it.<br /><br />Then I looked it up on the internet and found that an ultra-fan was trying to get both series released 'on his own'.<br /><br />Well, both series are now available on DVD.<br /><br />http://www.replaydvd.co.uk/joking_apart_S1.htm\",\n",
       "       b'The beauty of this film is evidenced in the great portrayal of the power of a mother\\'s love, the exceptional performances, the steady execution and the quite innovative script. The film tells the story of an Indian woman, Nandini, who lives in Canada with her husband Shekhar and little kid Raja. All of a sudden her husband informs her that his family in India (of whom she had not even known) is in troubles and the couple rush to India. When they get into the village, Nanadini is shocked and terrified to witness a very wild rural culture; Shekhar\\'s family, ruled by his cruel, highly cynical and merciless father Narasimha, lives a poor and highly violent lifestyle which is full of murder and terror and where women are subservient and helpless. Nandini starts nagging Shekhar to return home, but he is soon killed by his father\\'s enemies. When she wants to leave, Narasimha refuses to let her take Raja back to India. Here starts the intense struggle which can be called \"Nandini vs. Narasimha\".<br /><br />India is not presented in a particularly positive light in this film, but it only shows a very tiny minority of its rural areas, so it may be even correct. The portrayal is in my view fair and not one-sided because the positive side is also presented to an extent. Such a horrifying sight could be shown in a film about any country in the world. The locations are amazing, the music is wonderful, and Krishna Vamshi\\'s direction is aided by very effective cinematography and good editing. One thing that must be noted is the very ear-pleasing background score by Ismail Darbar, it is beautiful. The characters are very well defined though we do get to see both their bright and dark sides in different portions of the film. Portrayed realistically throughout, the film flows well and is an interesting and fairly entertaining watch. Its dialogues are superb and intelligently written, and although the shocking proceedings can be very disturbing at some points, a great deal of positive moments manage to relieve the tension.<br /><br />The film\\'s biggest strength is the performances. Karisma Kapoor is breathtaking and very believable as Nandini. Her ability to strike a balance between vulnerability and unrestrained emotion is simply incredible. She displays so much intensity, impulsiveness, anguish and determination as the mother who wants to get her son back that this little kid seems to be her own son. Her outbreaks while facing off Nana Patekar which are like volcanic eruptions show us how the simplest of women can become a tigress when it comes to her child. After Fiza, this is her most powerful performance. One of the greatest actors Indian cinema has seen, Nana Patekar is indescribable as Narasimha. He manages to be hateful as Narasimha yet admirable as the actor who plays him. Patekar displays cruelty, wittiness and even humanity with total conviction. He is outstanding. Another great performance comes unsurprisingly from India\\'s most underrated actress, Deepti Naval, who sensitises her character to perfection. Sanjay Kapoor is just adequate and Shahrukh Khan provides great comic relief. Anyway, do watch Shakti - it could have been better, but it is definitely a must-watch.',\n",
       "       b\"Slashers.....well if you like horrors its definitely one to see, otherwise don't even bother.It is completely obvious that this film has an extremely low budget, For instance it looks as if the entire film has been shot in a warehouse somewhere, and on numerous occasions you will see the mike boom shadow and the camera mans shadow, trust me you wont need to look for them.Also try to ignore the cheesy actors, if thats what you call them!!The basic outline is a few people decide to go on a game show where they have to survive a night in a big maze due to their being 3 killers on the loose and whoever live's at the end gets rich. Now there is something about this film that keeps you watching and rarely do you find that with a cheap budget horror these days,For example when i watched it i thought to my self i would'nt mind having a go at this game! especially for $12.000.000. so anyway i would recommend you watch it and make up your own mind.\",\n",
       "       b\"We went to the movie with a group because the play we were going to was cancelled. It is without doubt one of the worst movies ever. It is not that i don't like cult-movies I do. But nothing happens in the film. One does not feel any connection with the characters whatsoever. endless times without dialog. And the car. How do thay carry a huge tent and beds chairs and clothing for every day in that car? It is a two seater! I have to say however the scenery is beautiful, but not in a movie, the director should have made a photoshoot of the movie, so that we could skip about 80 minutes of useless time in with nothing happens anyway.<br /><br /> I would not recommend it, as it is a waste of your time\",\n",
       "       b\"Holes is a fable about the past and the way it affects the present lives of at least three people. One of them I will name, the other two are mysteries and will remain so. Holes is a story about Stanley Yelnats IV. He is unlucky in life. Unlucky in fact characterizes the fates of most of the Yelnats men and has been since exploits of Stanley IV's `no good-dirty-rotten-pig-stealing-great-great-grandfather.' Those particular exploits cursed the family's men to many an ill-fated turn. It is during just such a turn that we meet Stanley IV. He has been accused, falsely, of stealing a pair of baseball shoes, freshly donated to a homeless shelter auction, by a famous baseball player. He is given the option of jail, or he can go to a character building camp. `I've never been to camp before,' says Stanley. With that the Judge enthusiastically sends him off to Camp Green Lake.<br /><br />Camp Green Lake is an odd place, with an odd philosophy, `If you take a bad boy, make him dig a hole every day in the hot sun, it will turn him into a good boy.' We learn this little pearl of wisdom from Mr. Sir (John Voight) one of the camp's `counselors.' We get the impression right away that he is a dangerous man. He at least wears his attitude honestly; he doesn't think he is nice. The camp's guidance councilor, Mr. Pendanski (Tim Blake Nelson) is a different matter entirely. He acts the part of the caring sensitive counselor, but he quick, quicker than anyone else in authority to unleash the most cruel verbal barbs at his charges. The Warden has a decided capacity for meanness, but other than that she is a mystery. These three rule Camp Green Lake, a place that has no lake. It is just a dry dusty desert filled with holes, five feet deep and five feet wide. Its local fauna, seem only to be the vultures, and dangerous poisonous yellow-spotted lizards. Green Lake seems is, in many ways, a haunted place.<br /><br />Holes works in spite of the strange setting, and the strange story, because it understands people. Specifically because it is honest in the way it deals with the inmates of Camp Green Lake. The movie captures the way boys interact with one another perfectly. It captures the way boys can bully each other, they way they can win admiration, the way they fight with one another, and the way boys ally themselves along the age line. It is this well nuanced core that makes everything else in the film believable. What is also refreshing about this film the good nature of its main character. He does not believe in a family curse, he is not bitter about the infamous exploits of his `no good-dirty-rotten-pig-stealing-great-great-grandfather.' In fact he loves hearing the story. Stanley IV is not bitter about the past, and determined not let it affect him in the way it has affected his father and grandfather. There is at times a lot of sadness in the film, but not a lot wallowing angsty silliness. And that is refreshing.<br /><br />Holes is an intelligent, insightful and witty family movie. It entertains, and not in any cheap way. It is not a comedy, though it has its laughs. It dares to be compelling, where many family movies tend to play it safe and conventional. As such it transcends the family movie genera and simply becomes a good film that everyone can enjoy. I give it a 10.\",\n",
       "       b'This is the sort of thing that only now thrills the film eggheads. After all, Feierstein\\'s Flex Crush will have you know that Real Men don\\'t watch anything by Truffaut. <br /><br />It might have been interesting if Truffaut had anything to -say- here. The camera-as-voyeur motif was nothing new. Have we all forgotten De Sica\\'s \"Bicycle Thief\"? Or anything by Hitchcock?<br /><br />So all we get is the extended metaphor of the juvenile as Truffaut, who spends all his free time \\'screwing up his eyes\\' at the movies, who wrecks schoolroom discipline, gets accused of plagiarism(the many petty thefts), and ultimately escapes societal confines to make \\'his own movie\\'. Sorry...been there, done that too many times for this to matter.',\n",
       "       b\"Who in their right mind plays a lyrical song at the same time they are portraying an emotional scene between two people? When Flipper confronts his wronged wife in the dressing room, the song sung with lyrical content is as loud as the dialog, so one can hear neither, diluting any emotional impact the scene may have had. The scenes of Annabella getting beaten by her father with his fists, a lamp and then a belt was so cartoonish as to be absurd. This entire movie is a cartoon, the rampant prejudice against whites is literally astounding. The discussion by the black women after flipper's wife finds out he has cheated on her with a white woman - as if it were a discussion by an oxford debating team, is ridiculous. The rampant racism might be possible to endure, but the soundtrack and the sound mixing during this 'movie' is too much. It was a technically poorly made movie. There is no understanding of the basic craft of movie making, the sound track, the editing and the desperate attempt of great actors trying to keep this movie afloat. I actually felt sorry for Anthony Quinn, wondering why he had accepted a role in this flick - his appearance in this is painful. This is the first movie I have seen by this director and it will be my last.\",\n",
       "       b'IN COLD BLOOD has to be ranked as first-rate movie-making, even if the subject matter is about as grim as it gets in the world of make-believe, but film noir fans should definitely find this one a gripping piece of work, based as it is on a true-life crime spree.<br /><br />It opens with Quincy Jones\\' music under the credits and starkly dramatic views of a highway bus heading toward Kansas City, effectively setting the mood of the film even before the credits end. The B&W photography of Conrad Hall does a superb job right from the start.<br /><br />Also clear from the start: ROBERT BLAKE and SCOTT Wilson are natural born actors. They do a great job of portraying free spirited buddies looking for the next thrill. \"Ever see a millionaire fry in the electric hair? Hell no. There are two kinds of rules in this world. One for the rich and one for the poor,\" says Wilson, taking a swig of alcohol behind the wheel.<br /><br />Both are destined to cross the path of a farm family, showing no mercy and leaving no witnesses behind.<br /><br />Blake, reminiscing about movies, and thinking of hunting for gold in Mexico, says: \"Remember Bogart in \\'Treasure of the Sierra Madre\\'?\" (An ironic moment, because Blake himself was in the film as a little boy selling lottery tickets). \"I got you pegged for a natural born killer,\" Wilson tells Blake.<br /><br />JOHN FORSYTHE is one of the lead detectives on the case, discovering that all four family members were tied up, shot in the head and one had his throat cut. \"Don\\'t people around here lock doors?\" asks PAUL STEWART. \"They will tonight,\" is the terse reply.<br /><br />After the murders, the killers discover that there was \"no big fat safe in the wall\", like their prison informant told them. So, in the end, it was truly a stupid, senseless crime. The question is: WHY did they do it? And this is something the second half of the film explores in depth. It takes an hour and a half into the movie before the detectives catch up with the killers and begin the interrogation.<br /><br />It\\'s these final scenes that carry the most conviction and the most interest as the boys are told they\\'ve made numerous mistakes and left a living witness. The actual events up to and including the murder are saved until the end. \"It makes no sense,\" Blake tells Forsythe. \"Mr. Cutter was a very nice gentleman. I thought so right up until the time I cut his throat.\" The screenplay by Richard Brooks is concise and to the point--and so is his direction.<br /><br />Summing up: Brilliant depiction of two aimless young men on a crime spree that made no sense then or now for a mere $43. Chilling.'],\n",
       "      dtype=object)>"
      ]
     },
     "execution_count": 3,
     "metadata": {},
     "output_type": "execute_result"
    }
   ],
   "source": [
    "train_examples_batch, train_labels_batch = next(iter(train_data.batch(10)))\n",
    "train_examples_batch"
   ]
  },
  {
   "cell_type": "code",
   "execution_count": null,
   "metadata": {},
   "outputs": [],
   "source": [
    "0은 부정적인 리뷰, 1은 긍정적인 리뷰 "
   ]
  },
  {
   "cell_type": "code",
   "execution_count": 4,
   "metadata": {},
   "outputs": [
    {
     "data": {
      "text/plain": [
       "<tf.Tensor: shape=(10,), dtype=int64, numpy=array([0, 0, 1, 1, 0, 0, 1, 0, 0, 1], dtype=int64)>"
      ]
     },
     "execution_count": 4,
     "metadata": {},
     "output_type": "execute_result"
    }
   ],
   "source": [
    "train_labels_batch"
   ]
  },
  {
   "cell_type": "code",
   "execution_count": null,
   "metadata": {},
   "outputs": [],
   "source": [
    "구글뉴스를 이용하여 사전 훈련된 텍스트 임베딩 모델인 \"https://tfhub.dev/google/tf2-preview/gnews-swivel-20dim/1\"를 이용해서 \n",
    "\n",
    "워드 임베딩을 진행"
   ]
  },
  {
   "cell_type": "code",
   "execution_count": 5,
   "metadata": {},
   "outputs": [
    {
     "data": {
      "text/plain": [
       "<tf.Tensor: shape=(3, 20), dtype=float32, numpy=\n",
       "array([[ 2.080595  , -3.519821  ,  3.820798  ,  0.17795023, -5.7022676 ,\n",
       "        -4.0035257 , -4.093607  ,  1.0823902 ,  3.7320447 , -1.6127218 ,\n",
       "        -2.829569  ,  1.5775235 ,  1.0270905 ,  0.35990515, -4.59064   ,\n",
       "         2.495925  ,  4.2067194 , -1.7372451 , -3.1296098 , -2.2202034 ],\n",
       "       [ 1.5430363 , -2.7185216 ,  2.4919388 ,  0.12749232, -3.7062044 ,\n",
       "        -1.839461  , -2.4596212 ,  1.6462464 ,  3.672319  , -0.14821526,\n",
       "        -3.3468337 ,  0.6979172 ,  0.35498896, -0.18110909, -2.6257515 ,\n",
       "         0.8833957 ,  2.676844  , -0.6901346 , -2.4871542 , -1.2647508 ],\n",
       "       [ 1.1911206 , -3.231674  ,  2.916924  , -0.6853074 , -3.8457842 ,\n",
       "        -2.08943   , -1.9154665 ,  0.01646899,  2.1377332 , -0.74050987,\n",
       "        -3.3031478 ,  1.0411956 , -1.2922063 ,  0.43493563, -4.214861  ,\n",
       "         1.7607119 ,  3.2658105 , -2.4540887 , -3.0205731 , -0.5040016 ]],\n",
       "      dtype=float32)>"
      ]
     },
     "execution_count": 5,
     "metadata": {},
     "output_type": "execute_result"
    }
   ],
   "source": [
    "#텐서플로 허브 모델을 사용하는 케라스 층\n",
    "embedding = \"https://tfhub.dev/google/tf2-preview/gnews-swivel-20dim/1\"\n",
    "hub_layer = hub.KerasLayer(embedding, input_shape=[], \n",
    "                           dtype=tf.string, trainable=True)\n",
    "hub_layer(train_examples_batch[:3])"
   ]
  },
  {
   "cell_type": "code",
   "execution_count": 6,
   "metadata": {},
   "outputs": [
    {
     "name": "stdout",
     "output_type": "stream",
     "text": [
      "Model: \"sequential\"\n",
      "_________________________________________________________________\n",
      "Layer (type)                 Output Shape              Param #   \n",
      "=================================================================\n",
      "keras_layer (KerasLayer)     (None, 20)                400020    \n",
      "_________________________________________________________________\n",
      "dense (Dense)                (None, 16)                336       \n",
      "_________________________________________________________________\n",
      "dense_1 (Dense)              (None, 1)                 17        \n",
      "=================================================================\n",
      "Total params: 400,373\n",
      "Trainable params: 400,373\n",
      "Non-trainable params: 0\n",
      "_________________________________________________________________\n"
     ]
    }
   ],
   "source": [
    "model = tf.keras.Sequential()\n",
    "model.add(hub_layer)\n",
    "model.add(tf.keras.layers.Dense(16, activation='relu'))\n",
    "model.add(tf.keras.layers.Dense(1, activation='sigmoid'))\n",
    "model.summary()"
   ]
  },
  {
   "cell_type": "code",
   "execution_count": 7,
   "metadata": {},
   "outputs": [],
   "source": [
    "model.compile(optimizer='adam',\n",
    "              loss='binary_crossentropy',\n",
    "              metrics=['accuracy'])"
   ]
  },
  {
   "cell_type": "code",
   "execution_count": 8,
   "metadata": {},
   "outputs": [
    {
     "name": "stdout",
     "output_type": "stream",
     "text": [
      "Epoch 1/20\n",
      "15/15 [==============================] - 2s 149ms/step - loss: 0.7448 - accuracy: 0.5407\n",
      "Epoch 2/20\n",
      "15/15 [==============================] - 1s 90ms/step - loss: 0.6711 - accuracy: 0.6061\n",
      "Epoch 3/20\n",
      "15/15 [==============================] - 1s 89ms/step - loss: 0.6485 - accuracy: 0.6345\n",
      "Epoch 4/20\n",
      "15/15 [==============================] - 1s 92ms/step - loss: 0.6297 - accuracy: 0.6536\n",
      "Epoch 5/20\n",
      "15/15 [==============================] - 1s 90ms/step - loss: 0.6100 - accuracy: 0.6708\n",
      "Epoch 6/20\n",
      "15/15 [==============================] - 1s 93ms/step - loss: 0.5896 - accuracy: 0.6928\n",
      "Epoch 7/20\n",
      "15/15 [==============================] - 1s 93ms/step - loss: 0.5688 - accuracy: 0.7139\n",
      "Epoch 8/20\n",
      "15/15 [==============================] - 1s 92ms/step - loss: 0.5473 - accuracy: 0.7315\n",
      "Epoch 9/20\n",
      "15/15 [==============================] - 1s 90ms/step - loss: 0.5260 - accuracy: 0.7512\n",
      "Epoch 10/20\n",
      "15/15 [==============================] - 1s 91ms/step - loss: 0.5040 - accuracy: 0.7689\n",
      "Epoch 11/20\n",
      "15/15 [==============================] - 1s 89ms/step - loss: 0.4816 - accuracy: 0.7877\n",
      "Epoch 12/20\n",
      "15/15 [==============================] - 1s 89ms/step - loss: 0.4600 - accuracy: 0.8047\n",
      "Epoch 13/20\n",
      "15/15 [==============================] - 1s 89ms/step - loss: 0.4372 - accuracy: 0.8221\n",
      "Epoch 14/20\n",
      "15/15 [==============================] - 1s 89ms/step - loss: 0.4157 - accuracy: 0.8329\n",
      "Epoch 15/20\n",
      "15/15 [==============================] - 1s 89ms/step - loss: 0.3938 - accuracy: 0.8461\n",
      "Epoch 16/20\n",
      "15/15 [==============================] - 1s 92ms/step - loss: 0.3734 - accuracy: 0.8571\n",
      "Epoch 17/20\n",
      "15/15 [==============================] - 1s 90ms/step - loss: 0.3538 - accuracy: 0.8677\n",
      "Epoch 18/20\n",
      "15/15 [==============================] - 1s 90ms/step - loss: 0.3347 - accuracy: 0.8771\n",
      "Epoch 19/20\n",
      "15/15 [==============================] - 1s 88ms/step - loss: 0.3157 - accuracy: 0.8855\n",
      "Epoch 20/20\n",
      "15/15 [==============================] - 1s 92ms/step - loss: 0.2987 - accuracy: 0.8948\n"
     ]
    }
   ],
   "source": [
    "history = model.fit(train_data.shuffle(10000).batch(512),\n",
    "                    epochs=20,\n",
    "                    verbose=1)"
   ]
  },
  {
   "cell_type": "code",
   "execution_count": 9,
   "metadata": {},
   "outputs": [
    {
     "name": "stdout",
     "output_type": "stream",
     "text": [
      "loss: 0.394\n",
      "accuracy: 0.829\n"
     ]
    }
   ],
   "source": [
    "results = model.evaluate(test_data.batch(512), verbose=2)\n",
    "for name, value in zip(model.metrics_names, results):\n",
    "  print(\"%s: %.3f\" % (name, value))"
   ]
  },
  {
   "cell_type": "code",
   "execution_count": null,
   "metadata": {},
   "outputs": [],
   "source": []
  },
  {
   "cell_type": "code",
   "execution_count": null,
   "metadata": {},
   "outputs": [],
   "source": []
  },
  {
   "cell_type": "code",
   "execution_count": null,
   "metadata": {},
   "outputs": [],
   "source": []
  },
  {
   "cell_type": "code",
   "execution_count": null,
   "metadata": {},
   "outputs": [],
   "source": []
  },
  {
   "cell_type": "code",
   "execution_count": null,
   "metadata": {},
   "outputs": [],
   "source": []
  },
  {
   "cell_type": "code",
   "execution_count": null,
   "metadata": {},
   "outputs": [],
   "source": []
  },
  {
   "cell_type": "code",
   "execution_count": null,
   "metadata": {},
   "outputs": [],
   "source": []
  }
 ],
 "metadata": {
  "kernelspec": {
   "display_name": "Python 3",
   "language": "python",
   "name": "python3"
  },
  "language_info": {
   "codemirror_mode": {
    "name": "ipython",
    "version": 3
   },
   "file_extension": ".py",
   "mimetype": "text/x-python",
   "name": "python",
   "nbconvert_exporter": "python",
   "pygments_lexer": "ipython3",
   "version": "3.7.6"
  }
 },
 "nbformat": 4,
 "nbformat_minor": 4
}
