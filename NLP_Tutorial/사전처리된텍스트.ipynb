{
 "cells": [
  {
   "cell_type": "markdown",
   "metadata": {},
   "source": [
    "사전 처리된 텍스트(영화 리뷰)를 사용하여 텍스트 분류 \n",
    "\n",
    "텍스트를 긍정, 부정으로 분류하는 이진 분류 문제"
   ]
  },
  {
   "cell_type": "code",
   "execution_count": 2,
   "metadata": {},
   "outputs": [
    {
     "name": "stdout",
     "output_type": "stream",
     "text": [
      "2.1.0\n"
     ]
    }
   ],
   "source": [
    "from __future__ import absolute_import, division, print_function, unicode_literals\n",
    "\n",
    "import tensorflow as tf\n",
    "from tensorflow import keras\n",
    "\n",
    "import numpy as np\n",
    "\n",
    "print(tf.__version__)"
   ]
  },
  {
   "cell_type": "code",
   "execution_count": 3,
   "metadata": {},
   "outputs": [],
   "source": [
    "imdb = keras.datasets.imdb\n",
    "\n",
    "#num_words=10000 ==> 가장많이 등장하는 상위 10000개의 단어를 선택\n",
    "(train_data, train_labels), (test_data, test_labels) = imdb.load_data(num_words=10000)"
   ]
  },
  {
   "cell_type": "code",
   "execution_count": 6,
   "metadata": {},
   "outputs": [
    {
     "name": "stdout",
     "output_type": "stream",
     "text": [
      "훈련 샘플: 25000, 레이블: 25000\n",
      "테스트 샘플: 25000,레이블: 25000\n"
     ]
    }
   ],
   "source": [
    "print(\"훈련 샘플: {}, 레이블: {}\".format(len(train_data), len(train_labels)))\n",
    "print(\"테스트 샘플: {},레이블: {}\".format(len(test_data),len(test_labels)))"
   ]
  },
  {
   "cell_type": "markdown",
   "metadata": {},
   "source": [
    "리뷰 텍스트는 어휘 사전의 특정 단어를 나타내는 정수로 변환되어 있다."
   ]
  },
  {
   "cell_type": "code",
   "execution_count": 9,
   "metadata": {},
   "outputs": [
    {
     "name": "stdout",
     "output_type": "stream",
     "text": [
      "[1, 14, 22, 16, 43, 530, 973, 1622, 1385, 65, 458, 4468, 66, 3941, 4, 173, 36, 256, 5, 25, 100, 43, 838, 112, 50, 670, 2, 9, 35, 480, 284, 5, 150, 4, 172, 112, 167, 2, 336, 385, 39, 4, 172, 4536, 1111, 17, 546, 38, 13, 447, 4, 192, 50, 16, 6, 147, 2025, 19, 14, 22, 4, 1920, 4613, 469, 4, 22, 71, 87, 12, 16, 43, 530, 38, 76, 15, 13, 1247, 4, 22, 17, 515, 17, 12, 16, 626, 18, 2, 5, 62, 386, 12, 8, 316, 8, 106, 5, 4, 2223, 5244, 16, 480, 66, 3785, 33, 4, 130, 12, 16, 38, 619, 5, 25, 124, 51, 36, 135, 48, 25, 1415, 33, 6, 22, 12, 215, 28, 77, 52, 5, 14, 407, 16, 82, 2, 8, 4, 107, 117, 5952, 15, 256, 4, 2, 7, 3766, 5, 723, 36, 71, 43, 530, 476, 26, 400, 317, 46, 7, 4, 2, 1029, 13, 104, 88, 4, 381, 15, 297, 98, 32, 2071, 56, 26, 141, 6, 194, 7486, 18, 4, 226, 22, 21, 134, 476, 26, 480, 5, 144, 30, 5535, 18, 51, 36, 28, 224, 92, 25, 104, 4, 226, 65, 16, 38, 1334, 88, 12, 16, 283, 5, 16, 4472, 113, 103, 32, 15, 16, 5345, 19, 178, 32]\n"
     ]
    }
   ],
   "source": [
    "print(train_data[0])"
   ]
  },
  {
   "cell_type": "markdown",
   "metadata": {},
   "source": [
    "정수를 단어로 다시 변환  "
   ]
  },
  {
   "cell_type": "code",
   "execution_count": 11,
   "metadata": {},
   "outputs": [],
   "source": [
    "# 단어와 정수 인덱스를 매핑한 딕셔너리\n",
    "word_index = imdb.get_word_index()\n",
    "\n",
    "# 처음 몇 개 인덱스는 사전에 정의되어 있습니다\n",
    "# Key: 단어 Value: 정수 \n",
    "word_index = {k:(v+3) for k,v in word_index.items()}\n",
    "word_index[\"<PAD>\"] = 0\n",
    "word_index[\"<START>\"] = 1\n",
    "word_index[\"<UNK>\"] = 2  # unknown\n",
    "word_index[\"<UNUSED>\"] = 3\n",
    "\n",
    "#Key: 정수 Value: 단어\n",
    "reverse_word_index = dict([(value, key) for (key, value) in word_index.items()])\n",
    "\n",
    "def decode_review(text):\n",
    "    return ' '.join([reverse_word_index.get(i, '?') for i in text])"
   ]
  },
  {
   "cell_type": "code",
   "execution_count": 13,
   "metadata": {},
   "outputs": [
    {
     "data": {
      "text/plain": [
       "\"<START> this film was just brilliant casting location scenery story direction everyone's really suited the part they played and you could just imagine being there robert <UNK> is an amazing actor and now the same being director <UNK> father came from the same scottish island as myself so i loved the fact there was a real connection with this film the witty remarks throughout the film were great it was just brilliant so much that i bought the film as soon as it was released for <UNK> and would recommend it to everyone to watch and the fly fishing was amazing really cried at the end it was so sad and you know what they say if you cry at a film it must have been good and this definitely was also <UNK> to the two little boy's that played the <UNK> of norman and paul they were just brilliant children are often left out of the <UNK> list i think because the stars that play them all grown up are such a big profile for the whole film but these children are amazing and should be praised for what they have done don't you think the whole story was so lovely because it was true and was someone's life after all that was shared with us all\""
      ]
     },
     "execution_count": 13,
     "metadata": {},
     "output_type": "execute_result"
    }
   ],
   "source": [
    "decode_review(train_data[0])"
   ]
  },
  {
   "cell_type": "code",
   "execution_count": 10,
   "metadata": {},
   "outputs": [
    {
     "data": {
      "text/plain": [
       "(218, 189)"
      ]
     },
     "execution_count": 10,
     "metadata": {},
     "output_type": "execute_result"
    }
   ],
   "source": [
    "len(train_data[0]), len(train_data[1])"
   ]
  },
  {
   "cell_type": "code",
   "execution_count": 12,
   "metadata": {},
   "outputs": [],
   "source": [
    "train_data = keras.preprocessing.sequence.pad_sequences(train_data,\n",
    "                                                        value=word_index[\"<PAD>\"],\n",
    "                                                        padding='post',\n",
    "                                                        maxlen=256)\n",
    "\n",
    "test_data = keras.preprocessing.sequence.pad_sequences(test_data,\n",
    "                                                       value=word_index[\"<PAD>\"],\n",
    "                                                       padding='post',\n",
    "                                                       maxlen=256)"
   ]
  },
  {
   "cell_type": "code",
   "execution_count": 13,
   "metadata": {},
   "outputs": [
    {
     "data": {
      "text/plain": [
       "(256, 256)"
      ]
     },
     "execution_count": 13,
     "metadata": {},
     "output_type": "execute_result"
    }
   ],
   "source": [
    "len(train_data[0]), len(train_data[1])"
   ]
  },
  {
   "cell_type": "code",
   "execution_count": 14,
   "metadata": {},
   "outputs": [
    {
     "name": "stdout",
     "output_type": "stream",
     "text": [
      "[   1   14   22   16   43  530  973 1622 1385   65  458 4468   66 3941\n",
      "    4  173   36  256    5   25  100   43  838  112   50  670    2    9\n",
      "   35  480  284    5  150    4  172  112  167    2  336  385   39    4\n",
      "  172 4536 1111   17  546   38   13  447    4  192   50   16    6  147\n",
      " 2025   19   14   22    4 1920 4613  469    4   22   71   87   12   16\n",
      "   43  530   38   76   15   13 1247    4   22   17  515   17   12   16\n",
      "  626   18    2    5   62  386   12    8  316    8  106    5    4 2223\n",
      " 5244   16  480   66 3785   33    4  130   12   16   38  619    5   25\n",
      "  124   51   36  135   48   25 1415   33    6   22   12  215   28   77\n",
      "   52    5   14  407   16   82    2    8    4  107  117 5952   15  256\n",
      "    4    2    7 3766    5  723   36   71   43  530  476   26  400  317\n",
      "   46    7    4    2 1029   13  104   88    4  381   15  297   98   32\n",
      " 2071   56   26  141    6  194 7486   18    4  226   22   21  134  476\n",
      "   26  480    5  144   30 5535   18   51   36   28  224   92   25  104\n",
      "    4  226   65   16   38 1334   88   12   16  283    5   16 4472  113\n",
      "  103   32   15   16 5345   19  178   32    0    0    0    0    0    0\n",
      "    0    0    0    0    0    0    0    0    0    0    0    0    0    0\n",
      "    0    0    0    0    0    0    0    0    0    0    0    0    0    0\n",
      "    0    0    0    0]\n"
     ]
    }
   ],
   "source": [
    "print(train_data[0])"
   ]
  },
  {
   "cell_type": "markdown",
   "metadata": {},
   "source": [
    "모델 구성"
   ]
  },
  {
   "cell_type": "code",
   "execution_count": 15,
   "metadata": {},
   "outputs": [
    {
     "name": "stdout",
     "output_type": "stream",
     "text": [
      "Model: \"sequential\"\n",
      "_________________________________________________________________\n",
      "Layer (type)                 Output Shape              Param #   \n",
      "=================================================================\n",
      "embedding (Embedding)        (None, None, 16)          160000    \n",
      "_________________________________________________________________\n",
      "global_average_pooling1d (Gl (None, 16)                0         \n",
      "_________________________________________________________________\n",
      "dense (Dense)                (None, 16)                272       \n",
      "_________________________________________________________________\n",
      "dense_1 (Dense)              (None, 1)                 17        \n",
      "=================================================================\n",
      "Total params: 160,289\n",
      "Trainable params: 160,289\n",
      "Non-trainable params: 0\n",
      "_________________________________________________________________\n"
     ]
    }
   ],
   "source": [
    "# 입력 크기는 영화 리뷰 데이터셋에 적용된 어휘 사전의 크기입니다(10,000개의 단어)\n",
    "vocab_size = 10000\n",
    "\n",
    "model = keras.Sequential()\n",
    "#Embedding 층은 정수로 인코딩된 단어를 입력 받고 각 단어 인덱스에 해당하는 임베딩 벡터를 찾는다.\n",
    "model.add(keras.layers.Embedding(vocab_size, 16, input_shape=(None,)))\n",
    "#Sequence 차원에 대한 평균을 계산하여 각 샘플에 대해 고정된 길이의 출력 벡터를 반환\n",
    "model.add(keras.layers.GlobalAveragePooling1D())\n",
    "model.add(keras.layers.Dense(16, activation='relu'))\n",
    "model.add(keras.layers.Dense(1, activation='sigmoid'))\n",
    "\n",
    "model.summary()"
   ]
  },
  {
   "cell_type": "code",
   "execution_count": 16,
   "metadata": {},
   "outputs": [],
   "source": [
    "model.compile(optimizer='adam',\n",
    "              loss='binary_crossentropy',\n",
    "              metrics=['accuracy'])"
   ]
  },
  {
   "cell_type": "code",
   "execution_count": 17,
   "metadata": {},
   "outputs": [],
   "source": [
    "x_val = train_data[:10000]\n",
    "partial_x_train = train_data[10000:]\n",
    "\n",
    "y_val = train_labels[:10000]\n",
    "partial_y_train = train_labels[10000:]"
   ]
  },
  {
   "cell_type": "code",
   "execution_count": 18,
   "metadata": {},
   "outputs": [
    {
     "name": "stdout",
     "output_type": "stream",
     "text": [
      "Train on 15000 samples, validate on 10000 samples\n",
      "Epoch 1/40\n",
      "15000/15000 [==============================] - 2s 105us/sample - loss: 0.6922 - accuracy: 0.5408 - val_loss: 0.6907 - val_accuracy: 0.6098\n",
      "Epoch 2/40\n",
      "15000/15000 [==============================] - 1s 57us/sample - loss: 0.6876 - accuracy: 0.6174 - val_loss: 0.6833 - val_accuracy: 0.6405\n",
      "Epoch 3/40\n",
      "15000/15000 [==============================] - 1s 60us/sample - loss: 0.6761 - accuracy: 0.6957 - val_loss: 0.6687 - val_accuracy: 0.7302\n",
      "Epoch 4/40\n",
      "15000/15000 [==============================] - 1s 60us/sample - loss: 0.6556 - accuracy: 0.7409 - val_loss: 0.6450 - val_accuracy: 0.7595\n",
      "Epoch 5/40\n",
      "15000/15000 [==============================] - 1s 58us/sample - loss: 0.6249 - accuracy: 0.7803 - val_loss: 0.6123 - val_accuracy: 0.7677\n",
      "Epoch 6/40\n",
      "15000/15000 [==============================] - 1s 60us/sample - loss: 0.5858 - accuracy: 0.8014 - val_loss: 0.5737 - val_accuracy: 0.7891\n",
      "Epoch 7/40\n",
      "15000/15000 [==============================] - 1s 59us/sample - loss: 0.5414 - accuracy: 0.8233 - val_loss: 0.5323 - val_accuracy: 0.8165\n",
      "Epoch 8/40\n",
      "15000/15000 [==============================] - 1s 59us/sample - loss: 0.4955 - accuracy: 0.8466 - val_loss: 0.4921 - val_accuracy: 0.8321\n",
      "Epoch 9/40\n",
      "15000/15000 [==============================] - 1s 51us/sample - loss: 0.4517 - accuracy: 0.8597 - val_loss: 0.4549 - val_accuracy: 0.8406\n",
      "Epoch 10/40\n",
      "15000/15000 [==============================] - 1s 58us/sample - loss: 0.4126 - accuracy: 0.8713 - val_loss: 0.4232 - val_accuracy: 0.8520\n",
      "Epoch 11/40\n",
      "15000/15000 [==============================] - 1s 58us/sample - loss: 0.3786 - accuracy: 0.8791 - val_loss: 0.3976 - val_accuracy: 0.8554\n",
      "Epoch 12/40\n",
      "15000/15000 [==============================] - 1s 58us/sample - loss: 0.3503 - accuracy: 0.8843 - val_loss: 0.3755 - val_accuracy: 0.8624\n",
      "Epoch 13/40\n",
      "15000/15000 [==============================] - 1s 58us/sample - loss: 0.3252 - accuracy: 0.8933 - val_loss: 0.3577 - val_accuracy: 0.8674\n",
      "Epoch 14/40\n",
      "15000/15000 [==============================] - 1s 58us/sample - loss: 0.3040 - accuracy: 0.8988 - val_loss: 0.3434 - val_accuracy: 0.8707\n",
      "Epoch 15/40\n",
      "15000/15000 [==============================] - 1s 55us/sample - loss: 0.2860 - accuracy: 0.9026 - val_loss: 0.3327 - val_accuracy: 0.8707\n",
      "Epoch 16/40\n",
      "15000/15000 [==============================] - 1s 57us/sample - loss: 0.2700 - accuracy: 0.9084 - val_loss: 0.3222 - val_accuracy: 0.8757\n",
      "Epoch 17/40\n",
      "15000/15000 [==============================] - 1s 59us/sample - loss: 0.2553 - accuracy: 0.9137 - val_loss: 0.3144 - val_accuracy: 0.8771\n",
      "Epoch 18/40\n",
      "15000/15000 [==============================] - 1s 58us/sample - loss: 0.2424 - accuracy: 0.9161 - val_loss: 0.3080 - val_accuracy: 0.8776\n",
      "Epoch 19/40\n",
      "15000/15000 [==============================] - 1s 60us/sample - loss: 0.2303 - accuracy: 0.9221 - val_loss: 0.3026 - val_accuracy: 0.8806\n",
      "Epoch 20/40\n",
      "15000/15000 [==============================] - 1s 58us/sample - loss: 0.2196 - accuracy: 0.9243 - val_loss: 0.2984 - val_accuracy: 0.8806\n",
      "Epoch 21/40\n",
      "15000/15000 [==============================] - ETA: 0s - loss: 0.2099 - accuracy: 0.92 - 1s 58us/sample - loss: 0.2097 - accuracy: 0.9283 - val_loss: 0.2941 - val_accuracy: 0.8835\n",
      "Epoch 22/40\n",
      "15000/15000 [==============================] - 1s 58us/sample - loss: 0.2005 - accuracy: 0.9325 - val_loss: 0.2925 - val_accuracy: 0.8828\n",
      "Epoch 23/40\n",
      "15000/15000 [==============================] - 1s 58us/sample - loss: 0.1920 - accuracy: 0.9357 - val_loss: 0.2885 - val_accuracy: 0.8845\n",
      "Epoch 24/40\n",
      "15000/15000 [==============================] - 1s 59us/sample - loss: 0.1837 - accuracy: 0.9399 - val_loss: 0.2879 - val_accuracy: 0.8843\n",
      "Epoch 25/40\n",
      "15000/15000 [==============================] - 1s 57us/sample - loss: 0.1765 - accuracy: 0.9427 - val_loss: 0.2867 - val_accuracy: 0.8840\n",
      "Epoch 26/40\n",
      "15000/15000 [==============================] - 1s 56us/sample - loss: 0.1691 - accuracy: 0.9469 - val_loss: 0.2848 - val_accuracy: 0.8853\n",
      "Epoch 27/40\n",
      "15000/15000 [==============================] - 1s 57us/sample - loss: 0.1625 - accuracy: 0.9497 - val_loss: 0.2851 - val_accuracy: 0.8841\n",
      "Epoch 28/40\n",
      "15000/15000 [==============================] - 1s 58us/sample - loss: 0.1561 - accuracy: 0.9515 - val_loss: 0.2850 - val_accuracy: 0.8842\n",
      "Epoch 29/40\n",
      "15000/15000 [==============================] - 1s 58us/sample - loss: 0.1507 - accuracy: 0.9543 - val_loss: 0.2845 - val_accuracy: 0.8852\n",
      "Epoch 30/40\n",
      "15000/15000 [==============================] - 1s 59us/sample - loss: 0.1447 - accuracy: 0.9565 - val_loss: 0.2851 - val_accuracy: 0.8856\n",
      "Epoch 31/40\n",
      "15000/15000 [==============================] - 1s 58us/sample - loss: 0.1393 - accuracy: 0.9584 - val_loss: 0.2861 - val_accuracy: 0.8856\n",
      "Epoch 32/40\n",
      "15000/15000 [==============================] - 1s 60us/sample - loss: 0.1341 - accuracy: 0.9606 - val_loss: 0.2877 - val_accuracy: 0.8852\n",
      "Epoch 33/40\n",
      "15000/15000 [==============================] - 1s 60us/sample - loss: 0.1296 - accuracy: 0.9625 - val_loss: 0.2886 - val_accuracy: 0.8854\n",
      "Epoch 34/40\n",
      "15000/15000 [==============================] - 1s 58us/sample - loss: 0.1245 - accuracy: 0.9653 - val_loss: 0.2904 - val_accuracy: 0.8854\n",
      "Epoch 35/40\n",
      "15000/15000 [==============================] - 1s 57us/sample - loss: 0.1198 - accuracy: 0.9665 - val_loss: 0.2919 - val_accuracy: 0.8856\n",
      "Epoch 36/40\n",
      "15000/15000 [==============================] - 1s 58us/sample - loss: 0.1157 - accuracy: 0.9679 - val_loss: 0.2943 - val_accuracy: 0.8852\n",
      "Epoch 37/40\n",
      "15000/15000 [==============================] - 1s 58us/sample - loss: 0.1114 - accuracy: 0.9698 - val_loss: 0.2964 - val_accuracy: 0.8844\n",
      "Epoch 38/40\n",
      "15000/15000 [==============================] - 1s 60us/sample - loss: 0.1078 - accuracy: 0.9711 - val_loss: 0.3009 - val_accuracy: 0.8823\n",
      "Epoch 39/40\n",
      "15000/15000 [==============================] - 1s 53us/sample - loss: 0.1045 - accuracy: 0.9721 - val_loss: 0.3011 - val_accuracy: 0.8849\n",
      "Epoch 40/40\n",
      "15000/15000 [==============================] - 1s 59us/sample - loss: 0.1006 - accuracy: 0.9733 - val_loss: 0.3039 - val_accuracy: 0.8839\n"
     ]
    }
   ],
   "source": [
    "history = model.fit(partial_x_train,\n",
    "                    partial_y_train,\n",
    "                    epochs=40,\n",
    "                    batch_size=512,\n",
    "                    validation_data=(x_val, y_val),\n",
    "                    verbose=1)"
   ]
  },
  {
   "cell_type": "code",
   "execution_count": 19,
   "metadata": {
    "scrolled": true
   },
   "outputs": [
    {
     "name": "stdout",
     "output_type": "stream",
     "text": [
      "25000/25000 - 3s - loss: 0.3231 - accuracy: 0.8734\n",
      "[0.3231370296430588, 0.87344]\n"
     ]
    }
   ],
   "source": [
    "results = model.evaluate(test_data,  test_labels, verbose=2)\n",
    "\n",
    "print(results)"
   ]
  },
  {
   "cell_type": "code",
   "execution_count": 20,
   "metadata": {},
   "outputs": [
    {
     "data": {
      "text/plain": [
       "dict_keys(['loss', 'accuracy', 'val_loss', 'val_accuracy'])"
      ]
     },
     "execution_count": 20,
     "metadata": {},
     "output_type": "execute_result"
    }
   ],
   "source": [
    "history_dict = history.history\n",
    "history_dict.keys()"
   ]
  },
  {
   "cell_type": "code",
   "execution_count": 22,
   "metadata": {},
   "outputs": [
    {
     "data": {
      "image/png": "[encoded data removed]",
      "text/plain": [
       "<Figure size 432x288 with 1 Axes>"
      ]
     },
     "metadata": {
      "needs_background": "light"
     },
     "output_type": "display_data"
    }
   ],
   "source": [
    "import matplotlib.pyplot as plt\n",
    "\n",
    "acc = history_dict['accuracy']\n",
    "val_acc = history_dict['val_accuracy']\n",
    "loss = history_dict['loss']\n",
    "val_loss = history_dict['val_loss']\n",
    "\n",
    "epochs = range(1, len(acc) + 1)\n",
    "\n",
    "# \"bo\"는 \"파란색 점\"입니다\n",
    "plt.plot(epochs, loss, 'bo', label='Training loss')\n",
    "# b는 \"파란 실선\"입니다\n",
    "plt.plot(epochs, val_loss, 'b', label='Validation loss')\n",
    "plt.title('Training and validation loss')\n",
    "plt.xlabel('Epochs')\n",
    "plt.ylabel('Loss')\n",
    "plt.legend()\n",
    "\n",
    "plt.show()"
   ]
  },
  {
   "cell_type": "code",
   "execution_count": 23,
   "metadata": {},
   "outputs": [
    {
     "data": {
      "image/png": "[encoded data removed]",
      "text/plain": [
       "<Figure size 432x288 with 1 Axes>"
      ]
     },
     "metadata": {
      "needs_background": "light"
     },
     "output_type": "display_data"
    }
   ],
   "source": [
    "plt.clf()   # 그림을 초기화합니다\n",
    "\n",
    "plt.plot(epochs, acc, 'bo', label='Training acc')\n",
    "plt.plot(epochs, val_acc, 'b', label='Validation acc')\n",
    "plt.title('Training and validation accuracy')\n",
    "plt.xlabel('Epochs')\n",
    "plt.ylabel('Accuracy')\n",
    "plt.legend()\n",
    "\n",
    "plt.show()"
   ]
  },
  {
   "cell_type": "code",
   "execution_count": null,
   "metadata": {},
   "outputs": [],
   "source": []
  },
  {
   "cell_type": "code",
   "execution_count": null,
   "metadata": {},
   "outputs": [],
   "source": []
  },
  {
   "cell_type": "code",
   "execution_count": null,
   "metadata": {},
   "outputs": [],
   "source": []
  },
  {
   "cell_type": "code",
   "execution_count": null,
   "metadata": {},
   "outputs": [],
   "source": []
  },
  {
   "cell_type": "code",
   "execution_count": null,
   "metadata": {},
   "outputs": [],
   "source": []
  },
  {
   "cell_type": "code",
   "execution_count": null,
   "metadata": {},
   "outputs": [],
   "source": []
  },
  {
   "cell_type": "code",
   "execution_count": null,
   "metadata": {},
   "outputs": [],
   "source": []
  },
  {
   "cell_type": "code",
   "execution_count": null,
   "metadata": {},
   "outputs": [],
   "source": []
  }
 ],
 "metadata": {
  "kernelspec": {
   "display_name": "Python 3",
   "language": "python",
   "name": "python3"
  },
  "language_info": {
   "codemirror_mode": {
    "name": "ipython",
    "version": 3
   },
   "file_extension": ".py",
   "mimetype": "text/x-python",
   "name": "python",
   "nbconvert_exporter": "python",
   "pygments_lexer": "ipython3",
   "version": "3.7.6"
  }
 },
 "nbformat": 4,
 "nbformat_minor": 4
}
